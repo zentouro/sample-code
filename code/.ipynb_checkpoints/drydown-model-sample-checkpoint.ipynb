{
 "cells": [
  {
   "cell_type": "markdown",
   "id": "a7c59c58-a042-4c73-a359-879dfa39f737",
   "metadata": {},
   "source": [
    "# Drydown Model Sample\n",
    "\n",
    "The following is sample code to run a simple supply and demand drydown model on any dataset with soil moisture and precipitation information. \n",
    "\n",
    "\n",
    "Here it is set up to import a small chunk of MERRA2 data. The data has already been processed to only include the warm season (defined as the longest continuess time period without snowfall or snow coverage and temperatures greater than 0ºC). However, the code should work with any input data so long as you correctly identify the variable names. \n"
   ]
  },
  {
   "cell_type": "markdown",
   "id": "e4ab9f91-d7ce-438e-83f9-6459785b69b7",
   "metadata": {},
   "source": [
    "### Necessary Packages"
   ]
  },
  {
   "cell_type": "code",
   "execution_count": 3,
   "id": "1198f99b-1e6b-41be-aef7-31d5244a1e9c",
   "metadata": {
    "execution": {
     "iopub.execute_input": "2025-09-18T19:59:26.849360Z",
     "iopub.status.busy": "2025-09-18T19:59:26.847527Z",
     "iopub.status.idle": "2025-09-18T19:59:26.862478Z",
     "shell.execute_reply": "2025-09-18T19:59:26.861481Z",
     "shell.execute_reply.started": "2025-09-18T19:59:26.849231Z"
    }
   },
   "outputs": [],
   "source": [
    "import numpy as np\n",
    "import pandas as pd\n",
    "import xarray as xr\n",
    "\n",
    "# progress bars for loops\n",
    "from tqdm.notebook import tqdm  \n",
    "\n",
    "## because i have an aversion to underscores and this cleans up a class ~so much~ \n",
    "from dataclasses import dataclass, field\n",
    "\n",
    "\n",
    "\n"
   ]
  },
  {
   "cell_type": "markdown",
   "id": "d7de7206-f6a9-40f5-84ed-6b243435dab0",
   "metadata": {
    "jp-MarkdownHeadingCollapsed": true
   },
   "source": [
    "### Drydown Model Class"
   ]
  },
  {
   "cell_type": "code",
   "execution_count": 4,
   "id": "19c55f47-1d67-48c2-83d2-94d068e2b491",
   "metadata": {
    "execution": {
     "iopub.execute_input": "2025-09-18T19:59:27.691135Z",
     "iopub.status.busy": "2025-09-18T19:59:27.690192Z",
     "iopub.status.idle": "2025-09-18T19:59:27.713335Z",
     "shell.execute_reply": "2025-09-18T19:59:27.712562Z",
     "shell.execute_reply.started": "2025-09-18T19:59:27.691068Z"
    }
   },
   "outputs": [],
   "source": [
    "@dataclass\n",
    "class DrydownModel:\n",
    "    t: np.ndarray\n",
    "    P_values: np.ndarray\n",
    "    M_obs: np.ndarray\n",
    "    lambda_guess: float \n",
    "    a_guess: float \n",
    "        \n",
    "    M_pred: np.ndarray = field(default = None, init = False)\n",
    "    \n",
    "    def euler_method(self, t, P_values, M_obs, lam, a):\n",
    "        '''\n",
    "        Using Euler's method to solve the ODE\n",
    "        \n",
    "        Args:\n",
    "            t (array):        Time array.\n",
    "            P_values (array): Precipitation values.\n",
    "            lam (float):      lambda parameter. Time to drydown to 0 after precipitation \n",
    "            a (float):        alpha parameter. Amount of precipitation that infuses into the soil moisture layer.\n",
    "        \n",
    "        Returns:\n",
    "            array: Predicted soil moisture values.\n",
    "\n",
    "        Code & math information: \n",
    "        ### code help: https://pythonnumericalmethods.studentorg.berkeley.edu/notebooks/chapter22.03-The-Euler-Method.html\n",
    "        ### math help: https://math.libretexts.org/Courses/Monroe_Community_College/MTH_225_Differential_Equations/03%3A_Numerical_Methods/3.01%3A_Euler's_Method\n",
    "        \n",
    "        '''\n",
    "        \n",
    "        M_pred = np.zeros(len(t))\n",
    "        M_init = M_obs[0]\n",
    "        M_pred[0] = M_init\n",
    "        \n",
    "        for i in range(1, len(t)):\n",
    "            dt = t[i] - t[i-1]\n",
    "            \n",
    "            dM_dt = a * P_values[i-1] - M_pred[i-1] / lam\n",
    "            M_pred[i] = M_pred[i-1] + dM_dt * dt\n",
    "            \n",
    "            \n",
    "        return M_pred\n",
    "    \n",
    "\n",
    "    def objective(self, params):\n",
    "        \"\"\"\n",
    "        Objective function --> optimization to minimize residuals.\n",
    "\n",
    "        Args:\n",
    "            params (array): Parameters to optimize (lam and a).\n",
    "\n",
    "        Returns:\n",
    "            array: Residuals between observed and predicted values.\n",
    "        \"\"\"\n",
    "\n",
    "        lam = np.exp(params[0])\n",
    "        a = np.exp(params[1])\n",
    "\n",
    "        self.M_pred = self.euler_method(self.t, self.P_values, self.M_obs, lam, a)\n",
    "\n",
    "        residuals = self.M_obs - self.M_pred\n",
    "        \n",
    "        return residuals \n",
    "    \n",
    "    def fit_params(self):\n",
    "        '''\n",
    "        Fit lambda and a using scipy.optimize.least_squares\n",
    "\n",
    "        Returns:\n",
    "            tuple: fitted lam and a parameters\n",
    "        '''\n",
    "        initial_guess = np.log([self.lambda_guess, self.a_guess])\n",
    "        bounds = (np.log([1e-3, 1e-3]), np.log([1e3, 1e0]))\n",
    "\n",
    "        ## commented out code describes other method options\n",
    "        result = least_squares(self.objective, initial_guess, bounds=bounds,\n",
    "                               ## method = 'trf' : \"Trust Region Reflective algorithm, \n",
    "                               ## particularly suitable for large sparse problems with bounds. \n",
    "                               ## Generally robust method.\"\n",
    "                               method='trf', ftol=1e-8, xtol=1e-8)\n",
    "                               ##method = 'lm')\n",
    "                               ## Levenberg-Marquardt algorithm as implemented in MINPACK. \n",
    "                               ## Doesn’t handle bounds and sparse Jacobians. Usually the \n",
    "                               ## most efficient method for small unconstrained problems.\n",
    "                               #method = 'lm', ftol = 1e-8, xtol=1e-8)\n",
    "        \n",
    "        fitted_params = np.exp(result.x)\n",
    "        return fitted_params\n",
    "\n",
    "    def calculate_r2(self):\n",
    "        \"\"\"\n",
    "        Calculate the R² value of the model fit.\n",
    "\n",
    "        Returns:\n",
    "            float: R² value.\n",
    "        \"\"\"\n",
    "        if self.M_pred is None:\n",
    "            raise ValueError(\"Predicted values M_pred are not available. Run fit_params first.\")\n",
    "        return r2_score(self.M_obs, self.M_pred)"
   ]
  },
  {
   "cell_type": "markdown",
   "id": "ed7f5152-3be8-434e-90b6-09877b8ae2c3",
   "metadata": {
    "jp-MarkdownHeadingCollapsed": true
   },
   "source": [
    "### Defining drydown:\n",
    "\n",
    "A sensible definition of drydown time might be the time it takes for the soil to return to its initial state $M_0$.  In that case, the drydown time would be\n",
    "$$\\tau =\\lambda \\ln (1+\\alpha/M_0 ).$$\n",
    "If $\\lambda = 100$, for example, it would take 9.5 days for the soil to return to its previous value after increasing by 10\\% and 40 days if it increased by 50\\%.  These are huge values, though: the maximum day-to-day increase in soil moisture in the MIROC model is about 6\\%.  For small x $\\ln(1+x) \\approx x$ so the drydown time is  $$\\tau \\approx \\frac{\\alpha}{M_0}\\lambda = \\frac{A P}{M_0} \\lambda.$$\n",
    "This makes physical sense: heavy precipitation should moisten the soil more and take longer to dry out.  The drier the soil is to begin with, the longer it will take to return to this ``normal\" value.  The drydown time depends on the fraction $A$ of precipitation that gets absorbed by the soil: obviously, if more precip goes to runoff, there will be less in the soil to dry out."
   ]
  },
  {
   "cell_type": "code",
   "execution_count": 5,
   "id": "34d1231a-4c18-4a8f-a5e0-ad74422b9ba2",
   "metadata": {
    "execution": {
     "iopub.execute_input": "2025-09-18T20:00:28.006458Z",
     "iopub.status.busy": "2025-09-18T20:00:28.005418Z",
     "iopub.status.idle": "2025-09-18T20:00:28.027266Z",
     "shell.execute_reply": "2025-09-18T20:00:28.026407Z",
     "shell.execute_reply.started": "2025-09-18T20:00:28.006366Z"
    }
   },
   "outputs": [],
   "source": [
    "def drydown_params(ds, model, model_params, lambda_guess, a_guess, \n",
    "                   debug=False, printout = False, return_M_pred=False):\n",
    "    \"\"\"\n",
    "    Fit the drydown model parameters for the given dataset.\n",
    "\n",
    "    Args:\n",
    "        ds (xarray.Dataset): Input dataset containing precipitation and soil moisture data.\n",
    "        ds_clime: climatology for precipitation and soil moisture data\n",
    "        model: dataset and/or model name to determine variable names\n",
    "        model_params: parameters for dataset and/or model \n",
    "        lambda_guess (float): Initial guess for lambda parameter.\n",
    "        a_guess (float, optional): Initial guess for a parameter.\n",
    "        model_version (str): Version of the model ('v1', 'v2', or 'v3').\n",
    "        debug (bool): Print debug information if True.\n",
    "        printout (bool): Print the results if True.\n",
    "\n",
    "    Returns:\n",
    "        tuple: Fitted parameters, drydown time, and R² value.\n",
    "    \"\"\"\n",
    "\n",
    "    p_var = model_params[model]['p_var']\n",
    "    s_var = model_params[model]['s_var']\n",
    "\n",
    "    P = ds[p_var].data\n",
    "    M = ds[s_var].data\n",
    "    t = np.linspace(0, len(M)-1, len(M))\n",
    "\n",
    "    if debug == True:\n",
    "        print(f\"Length of P: {len(P)}, Length of M: {len(M)}, Length of t: {len(t)}\")\n",
    "        print(f\"First 10 M values: {M[:10]}\")  \n",
    "\n",
    "    # Initialize model with parameter guesses\n",
    "    model = DrydownModel(t, P, M, lambda_guess, a_guess)\n",
    "    fitted_params = model.fit_params()\n",
    "    \n",
    "    # Unpack fitted parameters \n",
    "    fitted_lambda, fitted_a = fitted_params\n",
    "    \n",
    "    M_predicted = model.M_pred\n",
    "\n",
    "    r2 = model.calculate_r2()\n",
    "\n",
    "\n",
    "    p_div_m = ds['mean_p_div_m'].data\n",
    "    ## tau = lambda * np.log(1 + a * seasonal_P_mean/seasonal_M_mean)\n",
    "    tau = fitted_lambda * np.log(1 + (fitted_a * p_div_m))\n",
    "\n",
    "     # Print output if requested\n",
    "    if printout:\n",
    "        print(f\"lambda: {fitted_lambda}\")\n",
    "        print(f\"a: {fitted_a}\")\n",
    "        print(f\"R²: {r2}\")\n",
    "        print(f\"tau (drydown): {tau}\")\n",
    "\n",
    "    # Return results with flexibility for M_pred if requested\n",
    "    if return_M_pred:\n",
    "        return tau, fitted_lambda, fitted_a, r2, M_predicted\n",
    "    else:\n",
    "        return tau, fitted_lambda, fitted_a, r2"
   ]
  },
  {
   "cell_type": "code",
   "execution_count": null,
   "id": "771181f0-3c64-4da0-87e7-4fbba16f8308",
   "metadata": {},
   "outputs": [],
   "source": []
  },
  {
   "cell_type": "markdown",
   "id": "07b34867-6d2d-4acb-accf-96ff75ee8368",
   "metadata": {},
   "source": [
    "### Import data\n",
    "\n",
    "The dictionary can be expanded to include multiple models"
   ]
  },
  {
   "cell_type": "code",
   "execution_count": 10,
   "id": "116750d5-0f5b-4950-b7d8-4c5a4989059b",
   "metadata": {
    "execution": {
     "iopub.execute_input": "2025-09-18T20:07:32.618214Z",
     "iopub.status.busy": "2025-09-18T20:07:32.617172Z",
     "iopub.status.idle": "2025-09-18T20:07:32.626403Z",
     "shell.execute_reply": "2025-09-18T20:07:32.624930Z",
     "shell.execute_reply.started": "2025-09-18T20:07:32.618143Z"
    }
   },
   "outputs": [],
   "source": [
    "dict_ds = {'MERRA2': {}}"
   ]
  },
  {
   "cell_type": "code",
   "execution_count": 18,
   "id": "881f2ec9-cfc8-420e-967d-4a3f19c93698",
   "metadata": {
    "execution": {
     "iopub.execute_input": "2025-09-18T20:10:02.130449Z",
     "iopub.status.busy": "2025-09-18T20:10:02.129833Z",
     "iopub.status.idle": "2025-09-18T20:10:02.139740Z",
     "shell.execute_reply": "2025-09-18T20:10:02.138722Z",
     "shell.execute_reply.started": "2025-09-18T20:10:02.130407Z"
    }
   },
   "outputs": [],
   "source": [
    "model_params = {\n",
    "   'MERRA2': {\n",
    "       'filename':      'MERRA2_warm-season_1980-2023.nc', \n",
    "       'p_var':         'PRECTOTLAND',\n",
    "       't_var':         'T2MMEAN', \n",
    "       'sf_var':        'SFMC',\n",
    "       'rz_var':        'RZMC',\n",
    "       'snowfall_var':  'PRECSNOLAND', \n",
    "       'snowdepth_var': 'SNODP', \n",
    "       'model_name':    'MERRA-2'\n",
    "   } \n",
    "}"
   ]
  },
  {
   "cell_type": "markdown",
   "id": "f1107654-4e6b-461e-a187-6fb995e26943",
   "metadata": {},
   "source": [
    "Choose surface or rootzone for primary soil moisture variable:"
   ]
  },
  {
   "cell_type": "code",
   "execution_count": 19,
   "id": "71a822ce-ae24-4e20-94a3-f5dfcd003dae",
   "metadata": {
    "execution": {
     "iopub.execute_input": "2025-09-18T20:10:04.028632Z",
     "iopub.status.busy": "2025-09-18T20:10:04.026909Z",
     "iopub.status.idle": "2025-09-18T20:10:04.048093Z",
     "shell.execute_reply": "2025-09-18T20:10:04.046432Z",
     "shell.execute_reply.started": "2025-09-18T20:10:04.028531Z"
    }
   },
   "outputs": [],
   "source": [
    "for model in model_params.keys():\n",
    "    model_params[model]['s_var'] = model_params[model]['sf_var']"
   ]
  },
  {
   "cell_type": "code",
   "execution_count": 24,
   "id": "4ceebf0b-bfd0-4f06-8041-0e1816c52137",
   "metadata": {
    "execution": {
     "iopub.execute_input": "2025-09-18T20:10:27.905108Z",
     "iopub.status.busy": "2025-09-18T20:10:27.903960Z",
     "iopub.status.idle": "2025-09-18T20:10:28.221445Z",
     "shell.execute_reply": "2025-09-18T20:10:28.220537Z",
     "shell.execute_reply.started": "2025-09-18T20:10:27.905017Z"
    }
   },
   "outputs": [
    {
     "ename": "FileNotFoundError",
     "evalue": "[Errno 2] No such file or directory: b'/Users/miriam/Documents/02_academia/02_PhD/research/projects/MERRA2_warm-season_1980-2023.nc'",
     "output_type": "error",
     "traceback": [
      "\u001b[0;31m---------------------------------------------------------------------------\u001b[0m",
      "\u001b[0;31mKeyError\u001b[0m                                  Traceback (most recent call last)",
      "File \u001b[0;32m/opt/anaconda3/envs/climate/lib/python3.9/site-packages/xarray/backends/file_manager.py:211\u001b[0m, in \u001b[0;36mCachingFileManager._acquire_with_cache_info\u001b[0;34m(self, needs_lock)\u001b[0m\n\u001b[1;32m    210\u001b[0m \u001b[38;5;28;01mtry\u001b[39;00m:\n\u001b[0;32m--> 211\u001b[0m     file \u001b[38;5;241m=\u001b[39m \u001b[38;5;28;43mself\u001b[39;49m\u001b[38;5;241;43m.\u001b[39;49m\u001b[43m_cache\u001b[49m\u001b[43m[\u001b[49m\u001b[38;5;28;43mself\u001b[39;49m\u001b[38;5;241;43m.\u001b[39;49m\u001b[43m_key\u001b[49m\u001b[43m]\u001b[49m\n\u001b[1;32m    212\u001b[0m \u001b[38;5;28;01mexcept\u001b[39;00m \u001b[38;5;167;01mKeyError\u001b[39;00m:\n",
      "File \u001b[0;32m/opt/anaconda3/envs/climate/lib/python3.9/site-packages/xarray/backends/lru_cache.py:56\u001b[0m, in \u001b[0;36mLRUCache.__getitem__\u001b[0;34m(self, key)\u001b[0m\n\u001b[1;32m     55\u001b[0m \u001b[38;5;28;01mwith\u001b[39;00m \u001b[38;5;28mself\u001b[39m\u001b[38;5;241m.\u001b[39m_lock:\n\u001b[0;32m---> 56\u001b[0m     value \u001b[38;5;241m=\u001b[39m \u001b[38;5;28;43mself\u001b[39;49m\u001b[38;5;241;43m.\u001b[39;49m\u001b[43m_cache\u001b[49m\u001b[43m[\u001b[49m\u001b[43mkey\u001b[49m\u001b[43m]\u001b[49m\n\u001b[1;32m     57\u001b[0m     \u001b[38;5;28mself\u001b[39m\u001b[38;5;241m.\u001b[39m_cache\u001b[38;5;241m.\u001b[39mmove_to_end(key)\n",
      "\u001b[0;31mKeyError\u001b[0m: [<class 'netCDF4._netCDF4.Dataset'>, ('/Users/miriam/Documents/02_academia/02_PhD/research/projects/MERRA2_warm-season_1980-2023.nc',), 'r', (('clobber', True), ('diskless', False), ('format', 'NETCDF4'), ('persist', False)), '57399df4-b23b-489a-8a40-721353ed899c']",
      "\nDuring handling of the above exception, another exception occurred:\n",
      "\u001b[0;31mFileNotFoundError\u001b[0m                         Traceback (most recent call last)",
      "Cell \u001b[0;32mIn[24], line 1\u001b[0m\n\u001b[0;32m----> 1\u001b[0m \u001b[43mxr\u001b[49m\u001b[38;5;241;43m.\u001b[39;49m\u001b[43mopen_dataset\u001b[49m\u001b[43m(\u001b[49m\u001b[43mmodel_params\u001b[49m\u001b[43m[\u001b[49m\u001b[43mmodel\u001b[49m\u001b[43m]\u001b[49m\u001b[43m[\u001b[49m\u001b[38;5;124;43m'\u001b[39;49m\u001b[38;5;124;43mfilename\u001b[39;49m\u001b[38;5;124;43m'\u001b[39;49m\u001b[43m]\u001b[49m\u001b[43m)\u001b[49m\n",
      "File \u001b[0;32m/opt/anaconda3/envs/climate/lib/python3.9/site-packages/xarray/backends/api.py:566\u001b[0m, in \u001b[0;36mopen_dataset\u001b[0;34m(filename_or_obj, engine, chunks, cache, decode_cf, mask_and_scale, decode_times, decode_timedelta, use_cftime, concat_characters, decode_coords, drop_variables, inline_array, chunked_array_type, from_array_kwargs, backend_kwargs, **kwargs)\u001b[0m\n\u001b[1;32m    554\u001b[0m decoders \u001b[38;5;241m=\u001b[39m _resolve_decoders_kwargs(\n\u001b[1;32m    555\u001b[0m     decode_cf,\n\u001b[1;32m    556\u001b[0m     open_backend_dataset_parameters\u001b[38;5;241m=\u001b[39mbackend\u001b[38;5;241m.\u001b[39mopen_dataset_parameters,\n\u001b[0;32m   (...)\u001b[0m\n\u001b[1;32m    562\u001b[0m     decode_coords\u001b[38;5;241m=\u001b[39mdecode_coords,\n\u001b[1;32m    563\u001b[0m )\n\u001b[1;32m    565\u001b[0m overwrite_encoded_chunks \u001b[38;5;241m=\u001b[39m kwargs\u001b[38;5;241m.\u001b[39mpop(\u001b[38;5;124m\"\u001b[39m\u001b[38;5;124moverwrite_encoded_chunks\u001b[39m\u001b[38;5;124m\"\u001b[39m, \u001b[38;5;28;01mNone\u001b[39;00m)\n\u001b[0;32m--> 566\u001b[0m backend_ds \u001b[38;5;241m=\u001b[39m \u001b[43mbackend\u001b[49m\u001b[38;5;241;43m.\u001b[39;49m\u001b[43mopen_dataset\u001b[49m\u001b[43m(\u001b[49m\n\u001b[1;32m    567\u001b[0m \u001b[43m    \u001b[49m\u001b[43mfilename_or_obj\u001b[49m\u001b[43m,\u001b[49m\n\u001b[1;32m    568\u001b[0m \u001b[43m    \u001b[49m\u001b[43mdrop_variables\u001b[49m\u001b[38;5;241;43m=\u001b[39;49m\u001b[43mdrop_variables\u001b[49m\u001b[43m,\u001b[49m\n\u001b[1;32m    569\u001b[0m \u001b[43m    \u001b[49m\u001b[38;5;241;43m*\u001b[39;49m\u001b[38;5;241;43m*\u001b[39;49m\u001b[43mdecoders\u001b[49m\u001b[43m,\u001b[49m\n\u001b[1;32m    570\u001b[0m \u001b[43m    \u001b[49m\u001b[38;5;241;43m*\u001b[39;49m\u001b[38;5;241;43m*\u001b[39;49m\u001b[43mkwargs\u001b[49m\u001b[43m,\u001b[49m\n\u001b[1;32m    571\u001b[0m \u001b[43m\u001b[49m\u001b[43m)\u001b[49m\n\u001b[1;32m    572\u001b[0m ds \u001b[38;5;241m=\u001b[39m _dataset_from_backend_dataset(\n\u001b[1;32m    573\u001b[0m     backend_ds,\n\u001b[1;32m    574\u001b[0m     filename_or_obj,\n\u001b[0;32m   (...)\u001b[0m\n\u001b[1;32m    584\u001b[0m     \u001b[38;5;241m*\u001b[39m\u001b[38;5;241m*\u001b[39mkwargs,\n\u001b[1;32m    585\u001b[0m )\n\u001b[1;32m    586\u001b[0m \u001b[38;5;28;01mreturn\u001b[39;00m ds\n",
      "File \u001b[0;32m/opt/anaconda3/envs/climate/lib/python3.9/site-packages/xarray/backends/netCDF4_.py:590\u001b[0m, in \u001b[0;36mNetCDF4BackendEntrypoint.open_dataset\u001b[0;34m(self, filename_or_obj, mask_and_scale, decode_times, concat_characters, decode_coords, drop_variables, use_cftime, decode_timedelta, group, mode, format, clobber, diskless, persist, lock, autoclose)\u001b[0m\n\u001b[1;32m    569\u001b[0m \u001b[38;5;28;01mdef\u001b[39;00m\u001b[38;5;250m \u001b[39m\u001b[38;5;21mopen_dataset\u001b[39m(  \u001b[38;5;66;03m# type: ignore[override]  # allow LSP violation, not supporting **kwargs\u001b[39;00m\n\u001b[1;32m    570\u001b[0m     \u001b[38;5;28mself\u001b[39m,\n\u001b[1;32m    571\u001b[0m     filename_or_obj: \u001b[38;5;28mstr\u001b[39m \u001b[38;5;241m|\u001b[39m os\u001b[38;5;241m.\u001b[39mPathLike[Any] \u001b[38;5;241m|\u001b[39m BufferedIOBase \u001b[38;5;241m|\u001b[39m AbstractDataStore,\n\u001b[0;32m   (...)\u001b[0m\n\u001b[1;32m    587\u001b[0m     autoclose\u001b[38;5;241m=\u001b[39m\u001b[38;5;28;01mFalse\u001b[39;00m,\n\u001b[1;32m    588\u001b[0m ) \u001b[38;5;241m-\u001b[39m\u001b[38;5;241m>\u001b[39m Dataset:\n\u001b[1;32m    589\u001b[0m     filename_or_obj \u001b[38;5;241m=\u001b[39m _normalize_path(filename_or_obj)\n\u001b[0;32m--> 590\u001b[0m     store \u001b[38;5;241m=\u001b[39m \u001b[43mNetCDF4DataStore\u001b[49m\u001b[38;5;241;43m.\u001b[39;49m\u001b[43mopen\u001b[49m\u001b[43m(\u001b[49m\n\u001b[1;32m    591\u001b[0m \u001b[43m        \u001b[49m\u001b[43mfilename_or_obj\u001b[49m\u001b[43m,\u001b[49m\n\u001b[1;32m    592\u001b[0m \u001b[43m        \u001b[49m\u001b[43mmode\u001b[49m\u001b[38;5;241;43m=\u001b[39;49m\u001b[43mmode\u001b[49m\u001b[43m,\u001b[49m\n\u001b[1;32m    593\u001b[0m \u001b[43m        \u001b[49m\u001b[38;5;28;43mformat\u001b[39;49m\u001b[38;5;241;43m=\u001b[39;49m\u001b[38;5;28;43mformat\u001b[39;49m\u001b[43m,\u001b[49m\n\u001b[1;32m    594\u001b[0m \u001b[43m        \u001b[49m\u001b[43mgroup\u001b[49m\u001b[38;5;241;43m=\u001b[39;49m\u001b[43mgroup\u001b[49m\u001b[43m,\u001b[49m\n\u001b[1;32m    595\u001b[0m \u001b[43m        \u001b[49m\u001b[43mclobber\u001b[49m\u001b[38;5;241;43m=\u001b[39;49m\u001b[43mclobber\u001b[49m\u001b[43m,\u001b[49m\n\u001b[1;32m    596\u001b[0m \u001b[43m        \u001b[49m\u001b[43mdiskless\u001b[49m\u001b[38;5;241;43m=\u001b[39;49m\u001b[43mdiskless\u001b[49m\u001b[43m,\u001b[49m\n\u001b[1;32m    597\u001b[0m \u001b[43m        \u001b[49m\u001b[43mpersist\u001b[49m\u001b[38;5;241;43m=\u001b[39;49m\u001b[43mpersist\u001b[49m\u001b[43m,\u001b[49m\n\u001b[1;32m    598\u001b[0m \u001b[43m        \u001b[49m\u001b[43mlock\u001b[49m\u001b[38;5;241;43m=\u001b[39;49m\u001b[43mlock\u001b[49m\u001b[43m,\u001b[49m\n\u001b[1;32m    599\u001b[0m \u001b[43m        \u001b[49m\u001b[43mautoclose\u001b[49m\u001b[38;5;241;43m=\u001b[39;49m\u001b[43mautoclose\u001b[49m\u001b[43m,\u001b[49m\n\u001b[1;32m    600\u001b[0m \u001b[43m    \u001b[49m\u001b[43m)\u001b[49m\n\u001b[1;32m    602\u001b[0m     store_entrypoint \u001b[38;5;241m=\u001b[39m StoreBackendEntrypoint()\n\u001b[1;32m    603\u001b[0m     \u001b[38;5;28;01mwith\u001b[39;00m close_on_error(store):\n",
      "File \u001b[0;32m/opt/anaconda3/envs/climate/lib/python3.9/site-packages/xarray/backends/netCDF4_.py:391\u001b[0m, in \u001b[0;36mNetCDF4DataStore.open\u001b[0;34m(cls, filename, mode, format, group, clobber, diskless, persist, lock, lock_maker, autoclose)\u001b[0m\n\u001b[1;32m    385\u001b[0m kwargs \u001b[38;5;241m=\u001b[39m \u001b[38;5;28mdict\u001b[39m(\n\u001b[1;32m    386\u001b[0m     clobber\u001b[38;5;241m=\u001b[39mclobber, diskless\u001b[38;5;241m=\u001b[39mdiskless, persist\u001b[38;5;241m=\u001b[39mpersist, \u001b[38;5;28mformat\u001b[39m\u001b[38;5;241m=\u001b[39m\u001b[38;5;28mformat\u001b[39m\n\u001b[1;32m    387\u001b[0m )\n\u001b[1;32m    388\u001b[0m manager \u001b[38;5;241m=\u001b[39m CachingFileManager(\n\u001b[1;32m    389\u001b[0m     netCDF4\u001b[38;5;241m.\u001b[39mDataset, filename, mode\u001b[38;5;241m=\u001b[39mmode, kwargs\u001b[38;5;241m=\u001b[39mkwargs\n\u001b[1;32m    390\u001b[0m )\n\u001b[0;32m--> 391\u001b[0m \u001b[38;5;28;01mreturn\u001b[39;00m \u001b[38;5;28;43mcls\u001b[39;49m\u001b[43m(\u001b[49m\u001b[43mmanager\u001b[49m\u001b[43m,\u001b[49m\u001b[43m \u001b[49m\u001b[43mgroup\u001b[49m\u001b[38;5;241;43m=\u001b[39;49m\u001b[43mgroup\u001b[49m\u001b[43m,\u001b[49m\u001b[43m \u001b[49m\u001b[43mmode\u001b[49m\u001b[38;5;241;43m=\u001b[39;49m\u001b[43mmode\u001b[49m\u001b[43m,\u001b[49m\u001b[43m \u001b[49m\u001b[43mlock\u001b[49m\u001b[38;5;241;43m=\u001b[39;49m\u001b[43mlock\u001b[49m\u001b[43m,\u001b[49m\u001b[43m \u001b[49m\u001b[43mautoclose\u001b[49m\u001b[38;5;241;43m=\u001b[39;49m\u001b[43mautoclose\u001b[49m\u001b[43m)\u001b[49m\n",
      "File \u001b[0;32m/opt/anaconda3/envs/climate/lib/python3.9/site-packages/xarray/backends/netCDF4_.py:338\u001b[0m, in \u001b[0;36mNetCDF4DataStore.__init__\u001b[0;34m(self, manager, group, mode, lock, autoclose)\u001b[0m\n\u001b[1;32m    336\u001b[0m \u001b[38;5;28mself\u001b[39m\u001b[38;5;241m.\u001b[39m_group \u001b[38;5;241m=\u001b[39m group\n\u001b[1;32m    337\u001b[0m \u001b[38;5;28mself\u001b[39m\u001b[38;5;241m.\u001b[39m_mode \u001b[38;5;241m=\u001b[39m mode\n\u001b[0;32m--> 338\u001b[0m \u001b[38;5;28mself\u001b[39m\u001b[38;5;241m.\u001b[39mformat \u001b[38;5;241m=\u001b[39m \u001b[38;5;28;43mself\u001b[39;49m\u001b[38;5;241;43m.\u001b[39;49m\u001b[43mds\u001b[49m\u001b[38;5;241m.\u001b[39mdata_model\n\u001b[1;32m    339\u001b[0m \u001b[38;5;28mself\u001b[39m\u001b[38;5;241m.\u001b[39m_filename \u001b[38;5;241m=\u001b[39m \u001b[38;5;28mself\u001b[39m\u001b[38;5;241m.\u001b[39mds\u001b[38;5;241m.\u001b[39mfilepath()\n\u001b[1;32m    340\u001b[0m \u001b[38;5;28mself\u001b[39m\u001b[38;5;241m.\u001b[39mis_remote \u001b[38;5;241m=\u001b[39m is_remote_uri(\u001b[38;5;28mself\u001b[39m\u001b[38;5;241m.\u001b[39m_filename)\n",
      "File \u001b[0;32m/opt/anaconda3/envs/climate/lib/python3.9/site-packages/xarray/backends/netCDF4_.py:400\u001b[0m, in \u001b[0;36mNetCDF4DataStore.ds\u001b[0;34m(self)\u001b[0m\n\u001b[1;32m    398\u001b[0m \u001b[38;5;129m@property\u001b[39m\n\u001b[1;32m    399\u001b[0m \u001b[38;5;28;01mdef\u001b[39;00m\u001b[38;5;250m \u001b[39m\u001b[38;5;21mds\u001b[39m(\u001b[38;5;28mself\u001b[39m):\n\u001b[0;32m--> 400\u001b[0m     \u001b[38;5;28;01mreturn\u001b[39;00m \u001b[38;5;28;43mself\u001b[39;49m\u001b[38;5;241;43m.\u001b[39;49m\u001b[43m_acquire\u001b[49m\u001b[43m(\u001b[49m\u001b[43m)\u001b[49m\n",
      "File \u001b[0;32m/opt/anaconda3/envs/climate/lib/python3.9/site-packages/xarray/backends/netCDF4_.py:394\u001b[0m, in \u001b[0;36mNetCDF4DataStore._acquire\u001b[0;34m(self, needs_lock)\u001b[0m\n\u001b[1;32m    393\u001b[0m \u001b[38;5;28;01mdef\u001b[39;00m\u001b[38;5;250m \u001b[39m\u001b[38;5;21m_acquire\u001b[39m(\u001b[38;5;28mself\u001b[39m, needs_lock\u001b[38;5;241m=\u001b[39m\u001b[38;5;28;01mTrue\u001b[39;00m):\n\u001b[0;32m--> 394\u001b[0m     \u001b[38;5;28;01mwith\u001b[39;00m \u001b[38;5;28mself\u001b[39m\u001b[38;5;241m.\u001b[39m_manager\u001b[38;5;241m.\u001b[39macquire_context(needs_lock) \u001b[38;5;28;01mas\u001b[39;00m root:\n\u001b[1;32m    395\u001b[0m         ds \u001b[38;5;241m=\u001b[39m _nc4_require_group(root, \u001b[38;5;28mself\u001b[39m\u001b[38;5;241m.\u001b[39m_group, \u001b[38;5;28mself\u001b[39m\u001b[38;5;241m.\u001b[39m_mode)\n\u001b[1;32m    396\u001b[0m     \u001b[38;5;28;01mreturn\u001b[39;00m ds\n",
      "File \u001b[0;32m/opt/anaconda3/envs/climate/lib/python3.9/contextlib.py:119\u001b[0m, in \u001b[0;36m_GeneratorContextManager.__enter__\u001b[0;34m(self)\u001b[0m\n\u001b[1;32m    117\u001b[0m \u001b[38;5;28;01mdel\u001b[39;00m \u001b[38;5;28mself\u001b[39m\u001b[38;5;241m.\u001b[39margs, \u001b[38;5;28mself\u001b[39m\u001b[38;5;241m.\u001b[39mkwds, \u001b[38;5;28mself\u001b[39m\u001b[38;5;241m.\u001b[39mfunc\n\u001b[1;32m    118\u001b[0m \u001b[38;5;28;01mtry\u001b[39;00m:\n\u001b[0;32m--> 119\u001b[0m     \u001b[38;5;28;01mreturn\u001b[39;00m \u001b[38;5;28;43mnext\u001b[39;49m\u001b[43m(\u001b[49m\u001b[38;5;28;43mself\u001b[39;49m\u001b[38;5;241;43m.\u001b[39;49m\u001b[43mgen\u001b[49m\u001b[43m)\u001b[49m\n\u001b[1;32m    120\u001b[0m \u001b[38;5;28;01mexcept\u001b[39;00m \u001b[38;5;167;01mStopIteration\u001b[39;00m:\n\u001b[1;32m    121\u001b[0m     \u001b[38;5;28;01mraise\u001b[39;00m \u001b[38;5;167;01mRuntimeError\u001b[39;00m(\u001b[38;5;124m\"\u001b[39m\u001b[38;5;124mgenerator didn\u001b[39m\u001b[38;5;124m'\u001b[39m\u001b[38;5;124mt yield\u001b[39m\u001b[38;5;124m\"\u001b[39m) \u001b[38;5;28;01mfrom\u001b[39;00m\u001b[38;5;250m \u001b[39m\u001b[38;5;28;01mNone\u001b[39;00m\n",
      "File \u001b[0;32m/opt/anaconda3/envs/climate/lib/python3.9/site-packages/xarray/backends/file_manager.py:199\u001b[0m, in \u001b[0;36mCachingFileManager.acquire_context\u001b[0;34m(self, needs_lock)\u001b[0m\n\u001b[1;32m    196\u001b[0m \u001b[38;5;129m@contextlib\u001b[39m\u001b[38;5;241m.\u001b[39mcontextmanager\n\u001b[1;32m    197\u001b[0m \u001b[38;5;28;01mdef\u001b[39;00m\u001b[38;5;250m \u001b[39m\u001b[38;5;21macquire_context\u001b[39m(\u001b[38;5;28mself\u001b[39m, needs_lock\u001b[38;5;241m=\u001b[39m\u001b[38;5;28;01mTrue\u001b[39;00m):\n\u001b[1;32m    198\u001b[0m \u001b[38;5;250m    \u001b[39m\u001b[38;5;124;03m\"\"\"Context manager for acquiring a file.\"\"\"\u001b[39;00m\n\u001b[0;32m--> 199\u001b[0m     file, cached \u001b[38;5;241m=\u001b[39m \u001b[38;5;28;43mself\u001b[39;49m\u001b[38;5;241;43m.\u001b[39;49m\u001b[43m_acquire_with_cache_info\u001b[49m\u001b[43m(\u001b[49m\u001b[43mneeds_lock\u001b[49m\u001b[43m)\u001b[49m\n\u001b[1;32m    200\u001b[0m     \u001b[38;5;28;01mtry\u001b[39;00m:\n\u001b[1;32m    201\u001b[0m         \u001b[38;5;28;01myield\u001b[39;00m file\n",
      "File \u001b[0;32m/opt/anaconda3/envs/climate/lib/python3.9/site-packages/xarray/backends/file_manager.py:217\u001b[0m, in \u001b[0;36mCachingFileManager._acquire_with_cache_info\u001b[0;34m(self, needs_lock)\u001b[0m\n\u001b[1;32m    215\u001b[0m     kwargs \u001b[38;5;241m=\u001b[39m kwargs\u001b[38;5;241m.\u001b[39mcopy()\n\u001b[1;32m    216\u001b[0m     kwargs[\u001b[38;5;124m\"\u001b[39m\u001b[38;5;124mmode\u001b[39m\u001b[38;5;124m\"\u001b[39m] \u001b[38;5;241m=\u001b[39m \u001b[38;5;28mself\u001b[39m\u001b[38;5;241m.\u001b[39m_mode\n\u001b[0;32m--> 217\u001b[0m file \u001b[38;5;241m=\u001b[39m \u001b[38;5;28;43mself\u001b[39;49m\u001b[38;5;241;43m.\u001b[39;49m\u001b[43m_opener\u001b[49m\u001b[43m(\u001b[49m\u001b[38;5;241;43m*\u001b[39;49m\u001b[38;5;28;43mself\u001b[39;49m\u001b[38;5;241;43m.\u001b[39;49m\u001b[43m_args\u001b[49m\u001b[43m,\u001b[49m\u001b[43m \u001b[49m\u001b[38;5;241;43m*\u001b[39;49m\u001b[38;5;241;43m*\u001b[39;49m\u001b[43mkwargs\u001b[49m\u001b[43m)\u001b[49m\n\u001b[1;32m    218\u001b[0m \u001b[38;5;28;01mif\u001b[39;00m \u001b[38;5;28mself\u001b[39m\u001b[38;5;241m.\u001b[39m_mode \u001b[38;5;241m==\u001b[39m \u001b[38;5;124m\"\u001b[39m\u001b[38;5;124mw\u001b[39m\u001b[38;5;124m\"\u001b[39m:\n\u001b[1;32m    219\u001b[0m     \u001b[38;5;66;03m# ensure file doesn't get overridden when opened again\u001b[39;00m\n\u001b[1;32m    220\u001b[0m     \u001b[38;5;28mself\u001b[39m\u001b[38;5;241m.\u001b[39m_mode \u001b[38;5;241m=\u001b[39m \u001b[38;5;124m\"\u001b[39m\u001b[38;5;124ma\u001b[39m\u001b[38;5;124m\"\u001b[39m\n",
      "File \u001b[0;32msrc/netCDF4/_netCDF4.pyx:2463\u001b[0m, in \u001b[0;36mnetCDF4._netCDF4.Dataset.__init__\u001b[0;34m()\u001b[0m\n",
      "File \u001b[0;32msrc/netCDF4/_netCDF4.pyx:2026\u001b[0m, in \u001b[0;36mnetCDF4._netCDF4._ensure_nc_success\u001b[0;34m()\u001b[0m\n",
      "\u001b[0;31mFileNotFoundError\u001b[0m: [Errno 2] No such file or directory: b'/Users/miriam/Documents/02_academia/02_PhD/research/projects/MERRA2_warm-season_1980-2023.nc'"
     ]
    }
   ],
   "source": [
    "xr.open_dataset(model_params[model]['filename'])"
   ]
  },
  {
   "cell_type": "code",
   "execution_count": 21,
   "id": "3ede25c8-6d1f-498c-881f-21401c53d135",
   "metadata": {
    "execution": {
     "iopub.execute_input": "2025-09-18T20:10:06.064612Z",
     "iopub.status.busy": "2025-09-18T20:10:06.063515Z",
     "iopub.status.idle": "2025-09-18T20:10:06.073672Z",
     "shell.execute_reply": "2025-09-18T20:10:06.072570Z",
     "shell.execute_reply.started": "2025-09-18T20:10:06.064564Z"
    }
   },
   "outputs": [
    {
     "data": {
      "text/plain": [
       "'MERRA2_warm-season_1980-2023.nc'"
      ]
     },
     "execution_count": 21,
     "metadata": {},
     "output_type": "execute_result"
    }
   ],
   "source": []
  },
  {
   "cell_type": "code",
   "execution_count": 23,
   "id": "300ce06d-c057-417b-a6a8-96a03df0d36d",
   "metadata": {
    "execution": {
     "iopub.execute_input": "2025-09-18T20:10:11.429897Z",
     "iopub.status.busy": "2025-09-18T20:10:11.428335Z",
     "iopub.status.idle": "2025-09-18T20:10:11.487528Z",
     "shell.execute_reply": "2025-09-18T20:10:11.486472Z",
     "shell.execute_reply.started": "2025-09-18T20:10:11.429810Z"
    }
   },
   "outputs": [
    {
     "data": {
      "application/json": {
       "ascii": false,
       "bar_format": null,
       "colour": null,
       "elapsed": 0.008215188980102539,
       "initial": 0,
       "n": 0,
       "ncols": null,
       "nrows": 24,
       "postfix": null,
       "prefix": "",
       "rate": null,
       "total": 1,
       "unit": "it",
       "unit_divisor": 1000,
       "unit_scale": false
      },
      "application/vnd.jupyter.widget-view+json": {
       "model_id": "115ac14aaca842cba75eb2b68928c968",
       "version_major": 2,
       "version_minor": 0
      },
      "text/plain": [
       "  0%|          | 0/1 [00:00<?, ?it/s]"
      ]
     },
     "metadata": {},
     "output_type": "display_data"
    },
    {
     "name": "stdout",
     "output_type": "stream",
     "text": [
      "MERRA2\n"
     ]
    },
    {
     "ename": "OSError",
     "evalue": "no files to open",
     "output_type": "error",
     "traceback": [
      "\u001b[0;31m---------------------------------------------------------------------------\u001b[0m",
      "\u001b[0;31mOSError\u001b[0m                                   Traceback (most recent call last)",
      "Cell \u001b[0;32mIn[23], line 5\u001b[0m\n\u001b[1;32m      2\u001b[0m \u001b[38;5;28mprint\u001b[39m(model)\n\u001b[1;32m      4\u001b[0m \u001b[38;5;66;03m### open seasonal dataset(s) \u001b[39;00m\n\u001b[0;32m----> 5\u001b[0m dict_ds[model] \u001b[38;5;241m=\u001b[39m \u001b[43mxr\u001b[49m\u001b[38;5;241;43m.\u001b[39;49m\u001b[43mopen_mfdataset\u001b[49m\u001b[43m(\u001b[49m\u001b[43mmodel_params\u001b[49m\u001b[43m[\u001b[49m\u001b[43mmodel\u001b[49m\u001b[43m]\u001b[49m\u001b[43m[\u001b[49m\u001b[38;5;124;43m'\u001b[39;49m\u001b[38;5;124;43mfilename\u001b[39;49m\u001b[38;5;124;43m'\u001b[39;49m\u001b[43m]\u001b[49m\u001b[43m,\u001b[49m\u001b[43m \u001b[49m\n\u001b[1;32m      6\u001b[0m \u001b[43m                     \u001b[49m\u001b[43mparallel\u001b[49m\u001b[43m \u001b[49m\u001b[38;5;241;43m=\u001b[39;49m\u001b[43m \u001b[49m\u001b[38;5;28;43;01mTrue\u001b[39;49;00m\u001b[43m)\u001b[49m\u001b[38;5;241m.\u001b[39mload()\n",
      "File \u001b[0;32m/opt/anaconda3/envs/climate/lib/python3.9/site-packages/xarray/backends/api.py:1003\u001b[0m, in \u001b[0;36mopen_mfdataset\u001b[0;34m(paths, chunks, concat_dim, compat, preprocess, engine, data_vars, coords, combine, parallel, join, attrs_file, combine_attrs, **kwargs)\u001b[0m\n\u001b[1;32m   1000\u001b[0m     paths \u001b[38;5;241m=\u001b[39m [os\u001b[38;5;241m.\u001b[39mfspath(p) \u001b[38;5;28;01mif\u001b[39;00m \u001b[38;5;28misinstance\u001b[39m(p, os\u001b[38;5;241m.\u001b[39mPathLike) \u001b[38;5;28;01melse\u001b[39;00m p \u001b[38;5;28;01mfor\u001b[39;00m p \u001b[38;5;129;01min\u001b[39;00m paths]\n\u001b[1;32m   1002\u001b[0m \u001b[38;5;28;01mif\u001b[39;00m \u001b[38;5;129;01mnot\u001b[39;00m paths:\n\u001b[0;32m-> 1003\u001b[0m     \u001b[38;5;28;01mraise\u001b[39;00m \u001b[38;5;167;01mOSError\u001b[39;00m(\u001b[38;5;124m\"\u001b[39m\u001b[38;5;124mno files to open\u001b[39m\u001b[38;5;124m\"\u001b[39m)\n\u001b[1;32m   1005\u001b[0m \u001b[38;5;28;01mif\u001b[39;00m combine \u001b[38;5;241m==\u001b[39m \u001b[38;5;124m\"\u001b[39m\u001b[38;5;124mnested\u001b[39m\u001b[38;5;124m\"\u001b[39m:\n\u001b[1;32m   1006\u001b[0m     \u001b[38;5;28;01mif\u001b[39;00m \u001b[38;5;28misinstance\u001b[39m(concat_dim, (\u001b[38;5;28mstr\u001b[39m, DataArray)) \u001b[38;5;129;01mor\u001b[39;00m concat_dim \u001b[38;5;129;01mis\u001b[39;00m \u001b[38;5;28;01mNone\u001b[39;00m:\n",
      "\u001b[0;31mOSError\u001b[0m: no files to open"
     ]
    }
   ],
   "source": [
    "for model in tqdm(dict_ds.keys()):\n",
    "    print(model)\n",
    "\n",
    "    ### open seasonal dataset(s) \n",
    "    dict_ds[model] = xr.open_mfdataset(model_params[model]['filename'], \n",
    "                         parallel = True).load()\n",
    "    "
   ]
  },
  {
   "cell_type": "code",
   "execution_count": null,
   "id": "08023dd2-fb54-45da-896a-c70f4c3a008e",
   "metadata": {},
   "outputs": [],
   "source": []
  }
 ],
 "metadata": {
  "kernelspec": {
   "display_name": "Python 3 (ipykernel)",
   "language": "python",
   "name": "python3"
  },
  "language_info": {
   "codemirror_mode": {
    "name": "ipython",
    "version": 3
   },
   "file_extension": ".py",
   "mimetype": "text/x-python",
   "name": "python",
   "nbconvert_exporter": "python",
   "pygments_lexer": "ipython3",
   "version": "3.9.10"
  }
 },
 "nbformat": 4,
 "nbformat_minor": 5
}
